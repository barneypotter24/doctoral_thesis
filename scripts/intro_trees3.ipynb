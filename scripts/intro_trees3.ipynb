{
 "cells": [
  {
   "cell_type": "code",
   "execution_count": 1,
   "metadata": {},
   "outputs": [
    {
     "name": "stdout",
     "output_type": "stream",
     "text": [
      "\n",
      "Tree height: 7.000000\n",
      "Tree length: 14.000000\n",
      "strictly bifurcating tree\n",
      "annotations present\n",
      "\n",
      "Numbers of objects in tree: 5 (2 nodes and 3 leaves)\n",
      "\n",
      "root: (0.0,1.75)\n",
      "ab: (4.0,1.0)\n",
      "B: (7.0,1.5)\n",
      "C: (6.0,0.5)\n",
      "A: (5.0,2.5)\n"
     ]
    }
   ],
   "source": [
    "import matplotlib as mpl\n",
    "import matplotlib.pyplot as plt\n",
    "import seaborn as sns\n",
    "import baltic as bt\n",
    "\n",
    "tre1 = bt.loadNewick(\"data/tree2.nwk\")\n",
    "tre1.treeStats()\n",
    "\n",
    "nn = {}\n",
    "\n",
    "for o in tre1.Objects:\n",
    "    if o.branchType!='leaf':\n",
    "        if o==tre1.root:\n",
    "            o.name = \"root\"\n",
    "        else:\n",
    "            o.name = \"ab\"\n",
    "    print(f\"{o.name}: ({o.x},{o.y})\")\n",
    "\n",
    "    nn[o.name] = o\n",
    "\n",
    "seqs = {\"A\" : \"ATGC\", \"B\": \"ATTC\", \"C\": \"TACG\"}\n",
    "\n",
    "for l in tre1.Objects:\n",
    "    if l.branchType=='leaf':\n",
    "        l.name = seqs[l.name]"
   ]
  },
  {
   "cell_type": "code",
   "execution_count": 2,
   "metadata": {},
   "outputs": [],
   "source": [
    "def base_fig(ax, tre, label=True, color=True, points=True, plot=True):\n",
    "    # tre.drawTree(order=[nn[\"A\"], nn[\"B\"], nn[\"C\"]])\n",
    "    if plot:\n",
    "        tre.plotTree(ax, x_attr=lambda k: k.x, colour=lambda k: 'k')\n",
    "    if points:\n",
    "        tre.plotPoints(ax,\n",
    "                    target=lambda k: k.branchType==\"leaf\", # turn off internal node colors\n",
    "                    size=50,\n",
    "                    colour=lambda k: 'k',\n",
    "                    )\n",
    "        if color:\n",
    "            tre.plotPoints(ax,\n",
    "                        target=lambda k: k.branchType==\"leaf\", # turn off internal node colors\n",
    "                        size=40,\n",
    "                        colour=lambda k: 'k',\n",
    "                        )\n",
    "    if label:\n",
    "        tre.addText(ax, \n",
    "                    target=lambda k: k.branchType==\"leaf\", # turn off internal node labels\n",
    "                    x_attr=lambda k: k.x+.2,\n",
    "                    y_attr=lambda k: k.y-.05,\n",
    "                    fontsize=20)\n",
    "    ax.axis('off')\n",
    "\n",
    "    ax.set_xlim(-0.5, 7.5)\n",
    "    ax.set_ylim(0,3)\n",
    "\n",
    "    return ax, tre"
   ]
  },
  {
   "cell_type": "code",
   "execution_count": 3,
   "metadata": {},
   "outputs": [
    {
     "data": {
      "text/plain": [
       "<baltic.baltic.tree at 0x113b51e70>"
      ]
     },
     "execution_count": 3,
     "metadata": {},
     "output_type": "execute_result"
    }
   ],
   "source": [
    "tre1"
   ]
  },
  {
   "cell_type": "code",
   "execution_count": 4,
   "metadata": {},
   "outputs": [
    {
     "name": "stderr",
     "output_type": "stream",
     "text": [
      "/var/folders/9n/v2y56hkx127fvfrtvpfxnyk80000gn/T/ipykernel_56176/1469010101.py:7: UserWarning: FixedFormatter should only be used together with FixedLocator\n",
      "  ax.set_xticklabels(labels)\n"
     ]
    },
    {
     "data": {
      "image/png": "[encoded data removed]",
      "text/plain": [
       "<Figure size 600x600 with 1 Axes>"
      ]
     },
     "metadata": {},
     "output_type": "display_data"
    }
   ],
   "source": [
    "# labeled phylogeny\n",
    "fig, ax = plt.subplots(figsize=(6,6))\n",
    "ax, tre1 = base_fig(ax, tre1)\n",
    "\n",
    "ax.axis(\"on\")\n",
    "labels = [ str(i) for i in range(8,-1,-1)]\n",
    "ax.set_xticklabels(labels)\n",
    "ax.set_xlabel(\"node age\")\n",
    "# ax.set_ylabel(\"meaningless axis\")\n",
    "ax.set_yticklabels([])\n",
    "ax.set_yticks([])\n",
    "ax.spines[['right', 'left', 'top']].set_visible(False)\n",
    "# sns.despine(ax=ax, left=False, trim=False, offset=10)\n",
    "\n",
    "plt.savefig(\"../chapters/introduction/image/tre2.png\")\n"
   ]
  },
  {
   "cell_type": "code",
   "execution_count": null,
   "metadata": {},
   "outputs": [],
   "source": []
  }
 ],
 "metadata": {
  "kernelspec": {
   "display_name": "figures",
   "language": "python",
   "name": "python3"
  },
  "language_info": {
   "codemirror_mode": {
    "name": "ipython",
    "version": 3
   },
   "file_extension": ".py",
   "mimetype": "text/x-python",
   "name": "python",
   "nbconvert_exporter": "python",
   "pygments_lexer": "ipython3",
   "version": "3.10.8"
  }
 },
 "nbformat": 4,
 "nbformat_minor": 2
}
